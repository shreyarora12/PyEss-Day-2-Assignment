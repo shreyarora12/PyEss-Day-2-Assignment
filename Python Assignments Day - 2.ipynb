{
 "cells": [
  {
   "cell_type": "markdown",
   "metadata": {},
   "source": [
    "# Assignment 1 Day 2"
   ]
  },
  {
   "cell_type": "markdown",
   "metadata": {},
   "source": [
    "1. Try 5 Different functions of the String in Python\n",
    "\n",
    "for ex - index, split function"
   ]
  },
  {
   "cell_type": "code",
   "execution_count": 7,
   "metadata": {},
   "outputs": [
    {
     "name": "stdout",
     "output_type": "stream",
     "text": [
      "Shreya\n",
      "hre\n",
      "hr\n",
      "Shre\n",
      "eya\n",
      "hrey\n",
      "Shreya\n"
     ]
    }
   ],
   "source": [
    "s = \"Shreya\"\n",
    "print(s)\n",
    "# Slicing\n",
    "print(s[1:4])\n",
    "print(s[1:3])\n",
    "print(s[:4])\n",
    "print(s[3:])\n",
    "print(s[-5:-1])\n",
    "print(s[:6])"
   ]
  },
  {
   "cell_type": "code",
   "execution_count": 14,
   "metadata": {},
   "outputs": [
    {
     "name": "stdout",
     "output_type": "stream",
     "text": [
      "ShreyaShreya\n",
      "ShreyaShreyaShreyaShreyaShreya\n"
     ]
    }
   ],
   "source": [
    "#Repeating Characters ('*')\n",
    "s=\"Shreya\" \n",
    "print(s*2)\n",
    "print(s*5)"
   ]
  },
  {
   "cell_type": "code",
   "execution_count": 15,
   "metadata": {},
   "outputs": [
    {
     "name": "stdout",
     "output_type": "stream",
     "text": [
      "Hello Sai Sir! I am Shreya Arora. I love programming.\n"
     ]
    }
   ],
   "source": [
    "# replace() method\n",
    "oldstring = 'Hello Sai Sir! I am Shreya Arora. I like programming.' \n",
    "newstring = oldstring.replace('like', 'love')\n",
    "print(newstring)"
   ]
  },
  {
   "cell_type": "code",
   "execution_count": 23,
   "metadata": {},
   "outputs": [
    {
     "name": "stdout",
     "output_type": "stream",
     "text": [
      "An apple a day keeps the doctor away.\n",
      "shreya loves programming.\n",
      "SHREYA LOVES PROGRAMMING.\n",
      "AN apPLE A dAY kEEPS THE dOCTOr AWAy.\n"
     ]
    }
   ],
   "source": [
    "#uppercase,lowercase,capitalise\n",
    "s =\"sHrEYa LoVes pRoGrammIng.\"\n",
    "t = \"an APple a Day Keeps the DoctoR awaY.\"\n",
    "print(t.capitalize())\n",
    "print(s.lower())\n",
    "print(s.upper())\n",
    "print(t.swapcase()) #returns all the upper case as lower ones & lower case as upper ones"
   ]
  },
  {
   "cell_type": "code",
   "execution_count": 28,
   "metadata": {},
   "outputs": [
    {
     "name": "stdout",
     "output_type": "stream",
     "text": [
      "ayerhS\n"
     ]
    }
   ],
   "source": [
    "#reverse the string by using reverse function\n",
    "s='Shreya'\n",
    "print(''.join(reversed(s)))"
   ]
  },
  {
   "cell_type": "code",
   "execution_count": 31,
   "metadata": {},
   "outputs": [
    {
     "name": "stdout",
     "output_type": "stream",
     "text": [
      "Shreya\n",
      "S\n"
     ]
    },
    {
     "ename": "TypeError",
     "evalue": "'str' object does not support item assignment",
     "output_type": "error",
     "traceback": [
      "\u001b[1;31m---------------------------------------------------------------------------\u001b[0m",
      "\u001b[1;31mTypeError\u001b[0m                                 Traceback (most recent call last)",
      "\u001b[1;32m<ipython-input-31-ca80b9c5aa22>\u001b[0m in \u001b[0;36m<module>\u001b[1;34m\u001b[0m\n\u001b[0;32m      3\u001b[0m \u001b[0mprint\u001b[0m\u001b[1;33m(\u001b[0m\u001b[0ms\u001b[0m\u001b[1;33m)\u001b[0m\u001b[1;33m\u001b[0m\u001b[1;33m\u001b[0m\u001b[0m\n\u001b[0;32m      4\u001b[0m \u001b[0mprint\u001b[0m\u001b[1;33m(\u001b[0m\u001b[0ms\u001b[0m\u001b[1;33m[\u001b[0m\u001b[1;36m0\u001b[0m\u001b[1;33m]\u001b[0m\u001b[1;33m)\u001b[0m\u001b[1;33m\u001b[0m\u001b[1;33m\u001b[0m\u001b[0m\n\u001b[1;32m----> 5\u001b[1;33m \u001b[0ms\u001b[0m\u001b[1;33m[\u001b[0m\u001b[1;36m1\u001b[0m\u001b[1;33m]\u001b[0m\u001b[1;33m=\u001b[0m\u001b[1;34m\"X\"\u001b[0m\u001b[1;33m\u001b[0m\u001b[1;33m\u001b[0m\u001b[0m\n\u001b[0m\u001b[0;32m      6\u001b[0m \u001b[0mprint\u001b[0m\u001b[1;33m(\u001b[0m\u001b[0ms\u001b[0m\u001b[1;33m)\u001b[0m\u001b[1;33m\u001b[0m\u001b[1;33m\u001b[0m\u001b[0m\n\u001b[0;32m      7\u001b[0m \u001b[0mprint\u001b[0m\u001b[1;33m(\u001b[0m\u001b[0ms\u001b[0m\u001b[1;33m[\u001b[0m\u001b[1;36m0\u001b[0m\u001b[1;33m]\u001b[0m\u001b[1;33m)\u001b[0m\u001b[1;33m\u001b[0m\u001b[1;33m\u001b[0m\u001b[0m\n",
      "\u001b[1;31mTypeError\u001b[0m: 'str' object does not support item assignment"
     ]
    }
   ],
   "source": [
    "# String are Immutable\n",
    "s = \"Shreya\"\n",
    "print(s)\n",
    "print(s[0])\n",
    "s[1]=\"X\"\n",
    "print(s)\n",
    "print(s[0])"
   ]
  },
  {
   "cell_type": "markdown",
   "metadata": {},
   "source": [
    "# Assignment 2 Day 2"
   ]
  },
  {
   "cell_type": "code",
   "execution_count": null,
   "metadata": {},
   "outputs": [],
   "source": [
    "2. Try 5 Different functions of the List object in Python"
   ]
  },
  {
   "cell_type": "code",
   "execution_count": 29,
   "metadata": {},
   "outputs": [
    {
     "name": "stdout",
     "output_type": "stream",
     "text": [
      "['S', 'h', 'r', 'e', 'y', 'a']\n",
      "['h', 'r', 'e', 'y']\n",
      "['S', 'h']\n",
      "['S', 'h', 'r']\n",
      "['r', 'e', 'y', 'a']\n",
      "['h', 'r', 'e', 'y']\n",
      "['S', 'h', 'r', 'e', 'y', 'a']\n"
     ]
    }
   ],
   "source": [
    "# List\n",
    "str1 = \"Shreya\"\n",
    "s = list(str1)\n",
    "print(s)\n",
    "# Slicing\n",
    "print(s[1:5])\n",
    "print(s[0:2])\n",
    "print(s[:3])\n",
    "print(s[2:])\n",
    "print(s[-5:-1])\n",
    "print(s[:6])"
   ]
  },
  {
   "cell_type": "code",
   "execution_count": 30,
   "metadata": {},
   "outputs": [
    {
     "name": "stdout",
     "output_type": "stream",
     "text": [
      "[1, 2, 3, 4]\n",
      "1\n",
      "['Shreya', 2, 3, 4]\n",
      "Shreya\n"
     ]
    }
   ],
   "source": [
    "# List are Mutable\n",
    "l = [1,2,3,4]\n",
    "print(l)\n",
    "print(l[0])\n",
    "l[0] = \"Shreya\"\n",
    "print(l)\n",
    "print(l[0])"
   ]
  },
  {
   "cell_type": "code",
   "execution_count": 32,
   "metadata": {},
   "outputs": [
    {
     "name": "stdout",
     "output_type": "stream",
     "text": [
      "[1, 2, 3, 4, 5]\n",
      "[1, 2, 3, 4, 5, 100, 200, 'Lets Upgrade', 'Learners']\n"
     ]
    }
   ],
   "source": [
    "# extend function for extending the existing list\n",
    "l = [1,2,3,4,5]\n",
    "print(l)\n",
    "l.extend([100,200,\"Lets Upgrade\", \"Learners\"])\n",
    "print(l)"
   ]
  },
  {
   "cell_type": "code",
   "execution_count": 36,
   "metadata": {},
   "outputs": [
    {
     "name": "stdout",
     "output_type": "stream",
     "text": [
      "[5, 1, 8, 4, 7, 2]\n",
      "[8, 7, 5, 4, 2, 1]\n",
      "[1, 2, 4, 5, 7, 8]\n"
     ]
    }
   ],
   "source": [
    "#sorting the list\n",
    "l = [5,1,8,4,7,2]\n",
    "print(l)\n",
    "l.sort(reverse=True)  #in descending order\n",
    "print(l)\n",
    "l.sort()  #in ascending order\n",
    "print(l)"
   ]
  },
  {
   "cell_type": "code",
   "execution_count": 43,
   "metadata": {},
   "outputs": [
    {
     "name": "stdout",
     "output_type": "stream",
     "text": [
      "[5, 1, 8, 4, 7, 2]\n",
      "[1, 8, 4, 7, 2]\n",
      "[1, 8, 4, 2]\n"
     ]
    }
   ],
   "source": [
    "# deleting list elements\n",
    "l = [5,1,8,4,7,2]\n",
    "print(l)\n",
    "l.remove(5)    #deleting 1st element (5)\n",
    "print(l)\n",
    "l.remove(7)    #deleting in between element (7)\n",
    "print(l)"
   ]
  },
  {
   "cell_type": "markdown",
   "metadata": {},
   "source": [
    "# Assignment 3 Day 2 "
   ]
  },
  {
   "cell_type": "code",
   "execution_count": null,
   "metadata": {},
   "outputs": [],
   "source": [
    "3. Experiment with atleast 5 default functions of Dictionary."
   ]
  },
  {
   "cell_type": "code",
   "execution_count": 44,
   "metadata": {},
   "outputs": [
    {
     "name": "stdout",
     "output_type": "stream",
     "text": [
      "{1: 'COMP', 2: 'IT', 3: 'EXTC'}\n",
      "dict_keys([1, 2, 3])\n"
     ]
    }
   ],
   "source": [
    "# Dictionary Functions:\n",
    "\n",
    "d = {1:\"COMP\" , 2:\"IT\", 3:\"EXTC\"}\n",
    "print(d)\n",
    "print(d.keys()) # Displaying keys"
   ]
  },
  {
   "cell_type": "code",
   "execution_count": 45,
   "metadata": {},
   "outputs": [
    {
     "name": "stdout",
     "output_type": "stream",
     "text": [
      "dict_values(['COMP', 'IT', 'EXTC'])\n"
     ]
    }
   ],
   "source": [
    "print(d.values()) # Displaying values"
   ]
  },
  {
   "cell_type": "code",
   "execution_count": 46,
   "metadata": {},
   "outputs": [
    {
     "name": "stdout",
     "output_type": "stream",
     "text": [
      "{2: 'IT', 3: 'EXTC'}\n"
     ]
    }
   ],
   "source": [
    "del d[1]    #deleting a key-value pair\n",
    "print(d)"
   ]
  },
  {
   "cell_type": "code",
   "execution_count": 47,
   "metadata": {},
   "outputs": [
    {
     "name": "stdout",
     "output_type": "stream",
     "text": [
      "{}\n"
     ]
    }
   ],
   "source": [
    "d.clear()   #clearing entire dictionary\n",
    "print(d)"
   ]
  },
  {
   "cell_type": "code",
   "execution_count": 48,
   "metadata": {},
   "outputs": [
    {
     "name": "stdout",
     "output_type": "stream",
     "text": [
      "{1: 'COMP', 2: 'IT', 3: 'EXTC'}\n",
      "{4: 'BIOTECH'}\n",
      "{1: 'COMP', 2: 'IT', 3: 'EXTC', 4: 'BIOTECH'}\n",
      "{4: 'BIOTECH'}\n"
     ]
    }
   ],
   "source": [
    "# updating dictionary\n",
    "d1 = {1: 'COMP', 2: 'IT', 3: 'EXTC'}\n",
    "d2 = {4:\"BIOTECH\"}\n",
    "print(d1)\n",
    "print(d2)\n",
    "d1.update(d2)\n",
    "print(d1)\n",
    "print(d2)"
   ]
  },
  {
   "cell_type": "code",
   "execution_count": null,
   "metadata": {},
   "outputs": [],
   "source": []
  }
 ],
 "metadata": {
  "kernelspec": {
   "display_name": "Python 3",
   "language": "python",
   "name": "python3"
  },
  "language_info": {
   "codemirror_mode": {
    "name": "ipython",
    "version": 3
   },
   "file_extension": ".py",
   "mimetype": "text/x-python",
   "name": "python",
   "nbconvert_exporter": "python",
   "pygments_lexer": "ipython3",
   "version": "3.8.3"
  }
 },
 "nbformat": 4,
 "nbformat_minor": 4
}
